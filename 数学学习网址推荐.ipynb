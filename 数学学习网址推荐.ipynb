{
 "cells": [
  {
   "cell_type": "markdown",
   "id": "8d3ddce6",
   "metadata": {},
   "source": [
    "# 数学知识无比重要！！！"
   ]
  },
  {
   "cell_type": "markdown",
   "id": "72022a34",
   "metadata": {},
   "source": [
    "### 线性代数网址分享\n",
    "【1】\n",
    "https://www.bilibili.com/video/BV1ys411472E/?spm_id_from=333.999.0.0&vd_source=812f18b1f45cfb23b0ac8130601de04a\n",
    "哔哩哔哩up主 3Blue1Brown的线性代数本质教学\n",
    "\n",
    "【2】\n",
    "https://textbooks.math.gatech.edu/ila/systems-of-eqns.html\n",
    "佐治亚理工学院的交互式线性代数"
   ]
  },
  {
   "cell_type": "markdown",
   "id": "c2aa9744",
   "metadata": {},
   "source": [
    "## 线性代数需要弄清楚的问题\n",
    "\n",
    "##### 矩阵与线性变换的关系\n",
    "##### 所有名词除了计算取数外的实际意义是什么"
   ]
  }
 ],
 "metadata": {
  "kernelspec": {
   "display_name": "Python 3 (ipykernel)",
   "language": "python",
   "name": "python3"
  },
  "language_info": {
   "codemirror_mode": {
    "name": "ipython",
    "version": 3
   },
   "file_extension": ".py",
   "mimetype": "text/x-python",
   "name": "python",
   "nbconvert_exporter": "python",
   "pygments_lexer": "ipython3",
   "version": "3.11.4"
  }
 },
 "nbformat": 4,
 "nbformat_minor": 5
}
